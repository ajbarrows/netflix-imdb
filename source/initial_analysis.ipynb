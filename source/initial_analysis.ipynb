{
 "cells": [
  {
   "cell_type": "markdown",
   "metadata": {},
   "source": [
    "# Netflix-IMDb Machine Learning Final Project\n",
    "## Alyx Cleveland and Tony Barrows"
   ]
  },
  {
   "cell_type": "markdown",
   "metadata": {},
   "source": [
    "Let's first download and gather our data for review."
   ]
  },
  {
   "cell_type": "code",
   "execution_count": 1,
   "metadata": {},
   "outputs": [],
   "source": [
    "import pandas as pd\n",
    "import numpy as np\n",
    "import itertools\n",
    "import matplotlib.pyplot as plt\n",
    "import missingno as msno\n",
    "\n",
    "from sklearn.feature_extraction import text\n",
    "from sklearn.model_selection import train_test_split\n",
    "from sklearn import linear_model\n",
    "from sklearn.model_selection import GridSearchCV\n",
    "from sklearn.preprocessing import OneHotEncoder\n",
    "from sklearn.svm import SVR\n",
    "from sklearn.preprocessing import PolynomialFeatures\n",
    "\n",
    "random_state = 42"
   ]
  },
  {
   "cell_type": "markdown",
   "metadata": {},
   "source": [
    "This is a very large data set, so let's dispense with it as quickly as we can. We need to download the *names* data set in order to get the primary key, merge on the *ratings* data set, and finally merge that again with the *netflix* data set."
   ]
  },
  {
   "cell_type": "code",
   "execution_count": 2,
   "metadata": {},
   "outputs": [],
   "source": [
    "def load_data_live():\n",
    "    ''' Load Netflix data set from disk. Load IMDb data sets from IMDb website. Merge on title, write merged\n",
    "    version to disk.'''\n",
    "    nflix = pd.read_csv(\"../data/netflix_titles.csv\")\n",
    "    imdb_names = pd.read_csv(\"https://datasets.imdbws.com/title.basics.tsv.gz\", compression='gzip', delimiter = \"\\t\",\n",
    "                            low_memory = False)\n",
    "    imdb_ratings = pd.read_csv(\"https://datasets.imdbws.com/title.ratings.tsv.gz\", compression = 'gzip', delimiter = \"\\t\",\n",
    "                              low_memory = False)\n",
    "\n",
    "    # just need the unique id 'tconst'\n",
    "    imdb_names = imdb_names[['tconst', 'originalTitle']]\n",
    "    imdb = imdb_ratings.merge(imdb_names, how = 'left', on = 'tconst')\n",
    "\n",
    "    nflix = nflix.merge(imdb, how = 'left', left_on = 'title', right_on = 'originalTitle')\n",
    "    nflix.to_csv(\"../data/nflix_merged.csv\")\n",
    "    \n",
    "    return nflix\n",
    "\n",
    "# only pull from by API if not on disk\n",
    "try:\n",
    "    nflix = pd.read_csv(\"../data/nflix_merged.csv\")\n",
    "except:\n",
    "    nflix = load_data_live()"
   ]
  },
  {
   "cell_type": "code",
   "execution_count": 3,
   "metadata": {},
   "outputs": [
    {
     "data": {
      "text/html": [
       "<div>\n",
       "<style scoped>\n",
       "    .dataframe tbody tr th:only-of-type {\n",
       "        vertical-align: middle;\n",
       "    }\n",
       "\n",
       "    .dataframe tbody tr th {\n",
       "        vertical-align: top;\n",
       "    }\n",
       "\n",
       "    .dataframe thead th {\n",
       "        text-align: right;\n",
       "    }\n",
       "</style>\n",
       "<table border=\"1\" class=\"dataframe\">\n",
       "  <thead>\n",
       "    <tr style=\"text-align: right;\">\n",
       "      <th></th>\n",
       "      <th>Unnamed: 0</th>\n",
       "      <th>show_id</th>\n",
       "      <th>type</th>\n",
       "      <th>title</th>\n",
       "      <th>director</th>\n",
       "      <th>cast</th>\n",
       "      <th>country</th>\n",
       "      <th>date_added</th>\n",
       "      <th>release_year</th>\n",
       "      <th>rating</th>\n",
       "      <th>duration</th>\n",
       "      <th>listed_in</th>\n",
       "      <th>description</th>\n",
       "      <th>tconst</th>\n",
       "      <th>averageRating</th>\n",
       "      <th>numVotes</th>\n",
       "      <th>originalTitle</th>\n",
       "    </tr>\n",
       "  </thead>\n",
       "  <tbody>\n",
       "    <tr>\n",
       "      <th>0</th>\n",
       "      <td>0</td>\n",
       "      <td>s1</td>\n",
       "      <td>TV Show</td>\n",
       "      <td>3%</td>\n",
       "      <td>NaN</td>\n",
       "      <td>João Miguel, Bianca Comparato, Michel Gomes, R...</td>\n",
       "      <td>Brazil</td>\n",
       "      <td>August 14, 2020</td>\n",
       "      <td>2020</td>\n",
       "      <td>TV-MA</td>\n",
       "      <td>4 Seasons</td>\n",
       "      <td>International TV Shows, TV Dramas, TV Sci-Fi &amp;...</td>\n",
       "      <td>In a future where the elite inhabit an island ...</td>\n",
       "      <td>tt2096351</td>\n",
       "      <td>7.8</td>\n",
       "      <td>2053.0</td>\n",
       "      <td>3%</td>\n",
       "    </tr>\n",
       "    <tr>\n",
       "      <th>1</th>\n",
       "      <td>1</td>\n",
       "      <td>s1</td>\n",
       "      <td>TV Show</td>\n",
       "      <td>3%</td>\n",
       "      <td>NaN</td>\n",
       "      <td>João Miguel, Bianca Comparato, Michel Gomes, R...</td>\n",
       "      <td>Brazil</td>\n",
       "      <td>August 14, 2020</td>\n",
       "      <td>2020</td>\n",
       "      <td>TV-MA</td>\n",
       "      <td>4 Seasons</td>\n",
       "      <td>International TV Shows, TV Dramas, TV Sci-Fi &amp;...</td>\n",
       "      <td>In a future where the elite inhabit an island ...</td>\n",
       "      <td>tt4922804</td>\n",
       "      <td>7.4</td>\n",
       "      <td>21771.0</td>\n",
       "      <td>3%</td>\n",
       "    </tr>\n",
       "    <tr>\n",
       "      <th>2</th>\n",
       "      <td>2</td>\n",
       "      <td>s2</td>\n",
       "      <td>Movie</td>\n",
       "      <td>7:19</td>\n",
       "      <td>Jorge Michel Grau</td>\n",
       "      <td>Demián Bichir, Héctor Bonilla, Oscar Serrano, ...</td>\n",
       "      <td>Mexico</td>\n",
       "      <td>December 23, 2016</td>\n",
       "      <td>2016</td>\n",
       "      <td>TV-MA</td>\n",
       "      <td>93 min</td>\n",
       "      <td>Dramas, International Movies</td>\n",
       "      <td>After a devastating earthquake hits Mexico Cit...</td>\n",
       "      <td>tt5979312</td>\n",
       "      <td>6.0</td>\n",
       "      <td>567.0</td>\n",
       "      <td>7:19</td>\n",
       "    </tr>\n",
       "    <tr>\n",
       "      <th>3</th>\n",
       "      <td>3</td>\n",
       "      <td>s3</td>\n",
       "      <td>Movie</td>\n",
       "      <td>23:59</td>\n",
       "      <td>Gilbert Chan</td>\n",
       "      <td>Tedd Chan, Stella Chung, Henley Hii, Lawrence ...</td>\n",
       "      <td>Singapore</td>\n",
       "      <td>December 20, 2018</td>\n",
       "      <td>2011</td>\n",
       "      <td>R</td>\n",
       "      <td>78 min</td>\n",
       "      <td>Horror Movies, International Movies</td>\n",
       "      <td>When an army recruit is found dead, his fellow...</td>\n",
       "      <td>tt2100376</td>\n",
       "      <td>4.6</td>\n",
       "      <td>849.0</td>\n",
       "      <td>23:59</td>\n",
       "    </tr>\n",
       "    <tr>\n",
       "      <th>4</th>\n",
       "      <td>4</td>\n",
       "      <td>s4</td>\n",
       "      <td>Movie</td>\n",
       "      <td>9</td>\n",
       "      <td>Shane Acker</td>\n",
       "      <td>Elijah Wood, John C. Reilly, Jennifer Connelly...</td>\n",
       "      <td>United States</td>\n",
       "      <td>November 16, 2017</td>\n",
       "      <td>2009</td>\n",
       "      <td>PG-13</td>\n",
       "      <td>80 min</td>\n",
       "      <td>Action &amp; Adventure, Independent Movies, Sci-Fi...</td>\n",
       "      <td>In a postapocalyptic world, rag-doll robots hi...</td>\n",
       "      <td>tt0191312</td>\n",
       "      <td>6.0</td>\n",
       "      <td>73.0</td>\n",
       "      <td>9</td>\n",
       "    </tr>\n",
       "    <tr>\n",
       "      <th>...</th>\n",
       "      <td>...</td>\n",
       "      <td>...</td>\n",
       "      <td>...</td>\n",
       "      <td>...</td>\n",
       "      <td>...</td>\n",
       "      <td>...</td>\n",
       "      <td>...</td>\n",
       "      <td>...</td>\n",
       "      <td>...</td>\n",
       "      <td>...</td>\n",
       "      <td>...</td>\n",
       "      <td>...</td>\n",
       "      <td>...</td>\n",
       "      <td>...</td>\n",
       "      <td>...</td>\n",
       "      <td>...</td>\n",
       "      <td>...</td>\n",
       "    </tr>\n",
       "    <tr>\n",
       "      <th>22408</th>\n",
       "      <td>22408</td>\n",
       "      <td>s7784</td>\n",
       "      <td>Movie</td>\n",
       "      <td>Zubaan</td>\n",
       "      <td>Mozez Singh</td>\n",
       "      <td>Vicky Kaushal, Sarah-Jane Dias, Raaghav Chanan...</td>\n",
       "      <td>India</td>\n",
       "      <td>March 2, 2019</td>\n",
       "      <td>2015</td>\n",
       "      <td>TV-14</td>\n",
       "      <td>111 min</td>\n",
       "      <td>Dramas, International Movies, Music &amp; Musicals</td>\n",
       "      <td>A scrappy but poor boy worms his way into a ty...</td>\n",
       "      <td>tt3776484</td>\n",
       "      <td>6.1</td>\n",
       "      <td>389.0</td>\n",
       "      <td>Zubaan</td>\n",
       "    </tr>\n",
       "    <tr>\n",
       "      <th>22409</th>\n",
       "      <td>22409</td>\n",
       "      <td>s7784</td>\n",
       "      <td>Movie</td>\n",
       "      <td>Zubaan</td>\n",
       "      <td>Mozez Singh</td>\n",
       "      <td>Vicky Kaushal, Sarah-Jane Dias, Raaghav Chanan...</td>\n",
       "      <td>India</td>\n",
       "      <td>March 2, 2019</td>\n",
       "      <td>2015</td>\n",
       "      <td>TV-14</td>\n",
       "      <td>111 min</td>\n",
       "      <td>Dramas, International Movies, Music &amp; Musicals</td>\n",
       "      <td>A scrappy but poor boy worms his way into a ty...</td>\n",
       "      <td>tt7368392</td>\n",
       "      <td>7.3</td>\n",
       "      <td>10.0</td>\n",
       "      <td>Zubaan</td>\n",
       "    </tr>\n",
       "    <tr>\n",
       "      <th>22410</th>\n",
       "      <td>22410</td>\n",
       "      <td>s7785</td>\n",
       "      <td>Movie</td>\n",
       "      <td>Zulu Man in Japan</td>\n",
       "      <td>NaN</td>\n",
       "      <td>Nasty C</td>\n",
       "      <td>NaN</td>\n",
       "      <td>September 25, 2020</td>\n",
       "      <td>2019</td>\n",
       "      <td>TV-MA</td>\n",
       "      <td>44 min</td>\n",
       "      <td>Documentaries, International Movies, Music &amp; M...</td>\n",
       "      <td>In this documentary, South African rapper Nast...</td>\n",
       "      <td>NaN</td>\n",
       "      <td>NaN</td>\n",
       "      <td>NaN</td>\n",
       "      <td>NaN</td>\n",
       "    </tr>\n",
       "    <tr>\n",
       "      <th>22411</th>\n",
       "      <td>22411</td>\n",
       "      <td>s7786</td>\n",
       "      <td>TV Show</td>\n",
       "      <td>Zumbo's Just Desserts</td>\n",
       "      <td>NaN</td>\n",
       "      <td>Adriano Zumbo, Rachel Khoo</td>\n",
       "      <td>Australia</td>\n",
       "      <td>October 31, 2020</td>\n",
       "      <td>2019</td>\n",
       "      <td>TV-PG</td>\n",
       "      <td>1 Season</td>\n",
       "      <td>International TV Shows, Reality TV</td>\n",
       "      <td>Dessert wizard Adriano Zumbo looks for the nex...</td>\n",
       "      <td>tt7239256</td>\n",
       "      <td>6.9</td>\n",
       "      <td>1864.0</td>\n",
       "      <td>Zumbo's Just Desserts</td>\n",
       "    </tr>\n",
       "    <tr>\n",
       "      <th>22412</th>\n",
       "      <td>22412</td>\n",
       "      <td>s7787</td>\n",
       "      <td>Movie</td>\n",
       "      <td>ZZ TOP: THAT LITTLE OL' BAND FROM TEXAS</td>\n",
       "      <td>Sam Dunn</td>\n",
       "      <td>NaN</td>\n",
       "      <td>United Kingdom, Canada, United States</td>\n",
       "      <td>March 1, 2020</td>\n",
       "      <td>2019</td>\n",
       "      <td>TV-MA</td>\n",
       "      <td>90 min</td>\n",
       "      <td>Documentaries, Music &amp; Musicals</td>\n",
       "      <td>This documentary delves into the mystique behi...</td>\n",
       "      <td>NaN</td>\n",
       "      <td>NaN</td>\n",
       "      <td>NaN</td>\n",
       "      <td>NaN</td>\n",
       "    </tr>\n",
       "  </tbody>\n",
       "</table>\n",
       "<p>22413 rows × 17 columns</p>\n",
       "</div>"
      ],
      "text/plain": [
       "       Unnamed: 0 show_id     type                                    title  \\\n",
       "0               0      s1  TV Show                                       3%   \n",
       "1               1      s1  TV Show                                       3%   \n",
       "2               2      s2    Movie                                     7:19   \n",
       "3               3      s3    Movie                                    23:59   \n",
       "4               4      s4    Movie                                        9   \n",
       "...           ...     ...      ...                                      ...   \n",
       "22408       22408   s7784    Movie                                   Zubaan   \n",
       "22409       22409   s7784    Movie                                   Zubaan   \n",
       "22410       22410   s7785    Movie                        Zulu Man in Japan   \n",
       "22411       22411   s7786  TV Show                    Zumbo's Just Desserts   \n",
       "22412       22412   s7787    Movie  ZZ TOP: THAT LITTLE OL' BAND FROM TEXAS   \n",
       "\n",
       "                director                                               cast  \\\n",
       "0                    NaN  João Miguel, Bianca Comparato, Michel Gomes, R...   \n",
       "1                    NaN  João Miguel, Bianca Comparato, Michel Gomes, R...   \n",
       "2      Jorge Michel Grau  Demián Bichir, Héctor Bonilla, Oscar Serrano, ...   \n",
       "3           Gilbert Chan  Tedd Chan, Stella Chung, Henley Hii, Lawrence ...   \n",
       "4            Shane Acker  Elijah Wood, John C. Reilly, Jennifer Connelly...   \n",
       "...                  ...                                                ...   \n",
       "22408        Mozez Singh  Vicky Kaushal, Sarah-Jane Dias, Raaghav Chanan...   \n",
       "22409        Mozez Singh  Vicky Kaushal, Sarah-Jane Dias, Raaghav Chanan...   \n",
       "22410                NaN                                            Nasty C   \n",
       "22411                NaN                         Adriano Zumbo, Rachel Khoo   \n",
       "22412           Sam Dunn                                                NaN   \n",
       "\n",
       "                                     country          date_added  \\\n",
       "0                                     Brazil     August 14, 2020   \n",
       "1                                     Brazil     August 14, 2020   \n",
       "2                                     Mexico   December 23, 2016   \n",
       "3                                  Singapore   December 20, 2018   \n",
       "4                              United States   November 16, 2017   \n",
       "...                                      ...                 ...   \n",
       "22408                                  India       March 2, 2019   \n",
       "22409                                  India       March 2, 2019   \n",
       "22410                                    NaN  September 25, 2020   \n",
       "22411                              Australia    October 31, 2020   \n",
       "22412  United Kingdom, Canada, United States       March 1, 2020   \n",
       "\n",
       "       release_year rating   duration  \\\n",
       "0              2020  TV-MA  4 Seasons   \n",
       "1              2020  TV-MA  4 Seasons   \n",
       "2              2016  TV-MA     93 min   \n",
       "3              2011      R     78 min   \n",
       "4              2009  PG-13     80 min   \n",
       "...             ...    ...        ...   \n",
       "22408          2015  TV-14    111 min   \n",
       "22409          2015  TV-14    111 min   \n",
       "22410          2019  TV-MA     44 min   \n",
       "22411          2019  TV-PG   1 Season   \n",
       "22412          2019  TV-MA     90 min   \n",
       "\n",
       "                                               listed_in  \\\n",
       "0      International TV Shows, TV Dramas, TV Sci-Fi &...   \n",
       "1      International TV Shows, TV Dramas, TV Sci-Fi &...   \n",
       "2                           Dramas, International Movies   \n",
       "3                    Horror Movies, International Movies   \n",
       "4      Action & Adventure, Independent Movies, Sci-Fi...   \n",
       "...                                                  ...   \n",
       "22408     Dramas, International Movies, Music & Musicals   \n",
       "22409     Dramas, International Movies, Music & Musicals   \n",
       "22410  Documentaries, International Movies, Music & M...   \n",
       "22411                 International TV Shows, Reality TV   \n",
       "22412                    Documentaries, Music & Musicals   \n",
       "\n",
       "                                             description     tconst  \\\n",
       "0      In a future where the elite inhabit an island ...  tt2096351   \n",
       "1      In a future where the elite inhabit an island ...  tt4922804   \n",
       "2      After a devastating earthquake hits Mexico Cit...  tt5979312   \n",
       "3      When an army recruit is found dead, his fellow...  tt2100376   \n",
       "4      In a postapocalyptic world, rag-doll robots hi...  tt0191312   \n",
       "...                                                  ...        ...   \n",
       "22408  A scrappy but poor boy worms his way into a ty...  tt3776484   \n",
       "22409  A scrappy but poor boy worms his way into a ty...  tt7368392   \n",
       "22410  In this documentary, South African rapper Nast...        NaN   \n",
       "22411  Dessert wizard Adriano Zumbo looks for the nex...  tt7239256   \n",
       "22412  This documentary delves into the mystique behi...        NaN   \n",
       "\n",
       "       averageRating  numVotes          originalTitle  \n",
       "0                7.8    2053.0                     3%  \n",
       "1                7.4   21771.0                     3%  \n",
       "2                6.0     567.0                   7:19  \n",
       "3                4.6     849.0                  23:59  \n",
       "4                6.0      73.0                      9  \n",
       "...              ...       ...                    ...  \n",
       "22408            6.1     389.0                 Zubaan  \n",
       "22409            7.3      10.0                 Zubaan  \n",
       "22410            NaN       NaN                    NaN  \n",
       "22411            6.9    1864.0  Zumbo's Just Desserts  \n",
       "22412            NaN       NaN                    NaN  \n",
       "\n",
       "[22413 rows x 17 columns]"
      ]
     },
     "execution_count": 3,
     "metadata": {},
     "output_type": "execute_result"
    }
   ],
   "source": [
    "nflix"
   ]
  },
  {
   "cell_type": "code",
   "execution_count": 4,
   "metadata": {},
   "outputs": [
    {
     "name": "stdout",
     "output_type": "stream",
     "text": [
      "<class 'pandas.core.frame.DataFrame'>\n",
      "RangeIndex: 22413 entries, 0 to 22412\n",
      "Data columns (total 17 columns):\n",
      " #   Column         Non-Null Count  Dtype  \n",
      "---  ------         --------------  -----  \n",
      " 0   Unnamed: 0     22413 non-null  int64  \n",
      " 1   show_id        22413 non-null  object \n",
      " 2   type           22413 non-null  object \n",
      " 3   title          22413 non-null  object \n",
      " 4   director       15336 non-null  object \n",
      " 5   cast           20796 non-null  object \n",
      " 6   country        21150 non-null  object \n",
      " 7   date_added     22356 non-null  object \n",
      " 8   release_year   22413 non-null  int64  \n",
      " 9   rating         22406 non-null  object \n",
      " 10  duration       22413 non-null  object \n",
      " 11  listed_in      22413 non-null  object \n",
      " 12  description    22413 non-null  object \n",
      " 13  tconst         20304 non-null  object \n",
      " 14  averageRating  20304 non-null  float64\n",
      " 15  numVotes       20304 non-null  float64\n",
      " 16  originalTitle  20304 non-null  object \n",
      "dtypes: float64(2), int64(2), object(13)\n",
      "memory usage: 2.9+ MB\n"
     ]
    }
   ],
   "source": [
    "nflix.info()"
   ]
  },
  {
   "cell_type": "markdown",
   "metadata": {},
   "source": [
    "_______"
   ]
  },
  {
   "cell_type": "markdown",
   "metadata": {},
   "source": [
    "TODO:\n",
    "* Weight ratings by number of votes (or use as separate targets: i.e., num votes is measure of popularity)\n",
    "    - Might be a relationship between number of votes and ratings\n",
    "\n",
    "* Make a binned version of IMDb ratings for classification methods\n",
    "* Text pre-processing\n",
    "* Feature selection\n",
    "    - e.g., Ridge Regression or LASSO selection\n",
    "* Algorithm definition\n",
    "    - Write algorithms in pseducode (in LaTeX) -- likely forest methods\n",
    "    - MSE or RMSE to describe bias-variance tradeoff \n",
    "    - Plot these."
   ]
  },
  {
   "cell_type": "markdown",
   "metadata": {},
   "source": [
    "*******"
   ]
  },
  {
   "cell_type": "markdown",
   "metadata": {},
   "source": [
    "### Descriptives"
   ]
  },
  {
   "cell_type": "code",
   "execution_count": 5,
   "metadata": {},
   "outputs": [
    {
     "data": {
      "image/png": "[encoded data removed]",
      "text/plain": [
       "<Figure size 432x288 with 1 Axes>"
      ]
     },
     "metadata": {
      "needs_background": "light"
     },
     "output_type": "display_data"
    }
   ],
   "source": [
    "avg = np.mean(nflix['averageRating'])\n",
    "sd = np.std(nflix['averageRating'])\n",
    "title = 'Distribution of IMDb Scores: $\\mu=$' + str(round(avg, 2)) + ', $\\sigma=$' + str(round(sd, 2))\n",
    "\n",
    "plt.hist(nflix['averageRating'], density = True, bins = 'auto')\n",
    "plt.xlabel('IMDb Scores')\n",
    "plt.ylabel('Probability of Occurence')\n",
    "plt.title(title)\n",
    "\n",
    "plt.tight_layout()\n",
    "# plt.savefig('../out/imdb_histogram.png', dpi=600)\n",
    "plt.show()"
   ]
  },
  {
   "cell_type": "markdown",
   "metadata": {},
   "source": [
    "********"
   ]
  },
  {
   "cell_type": "markdown",
   "metadata": {},
   "source": [
    "## Reshaping/Preprocessing"
   ]
  },
  {
   "cell_type": "markdown",
   "metadata": {},
   "source": [
    "We want to change the structure of the data to substantially reduce the complexity of the input features. Let's first separate things into structures that make sense. This is mainly a text processing problem."
   ]
  },
  {
   "cell_type": "markdown",
   "metadata": {},
   "source": [
    "Split 'title' and 'description' by every space:"
   ]
  },
  {
   "cell_type": "code",
   "execution_count": 6,
   "metadata": {},
   "outputs": [
    {
     "data": {
      "text/plain": [
       "0                                                    [3%]\n",
       "1                                                    [3%]\n",
       "2                                                  [7:19]\n",
       "3                                                 [23:59]\n",
       "4                                                     [9]\n",
       "                               ...                       \n",
       "22408                                            [Zubaan]\n",
       "22409                                            [Zubaan]\n",
       "22410                              [Zulu, Man, in, Japan]\n",
       "22411                           [Zumbo's, Just, Desserts]\n",
       "22412    [ZZ, TOP:, THAT, LITTLE, OL', BAND, FROM, TEXAS]\n",
       "Name: title, Length: 22413, dtype: object"
      ]
     },
     "execution_count": 6,
     "metadata": {},
     "output_type": "execute_result"
    }
   ],
   "source": [
    "# make a copy\n",
    "nflix_sub = nflix.copy()\n",
    "nflix_sub['title'] = nflix_sub['title'].str.split(' ')\n",
    "nflix_sub['title']"
   ]
  },
  {
   "cell_type": "markdown",
   "metadata": {},
   "source": [
    "We also want to remove unnecessary conjoining (i.e. 'stop') words and punctuation from the description in order to reduce its size and maximize its feature importance:"
   ]
  },
  {
   "cell_type": "code",
   "execution_count": 7,
   "metadata": {},
   "outputs": [
    {
     "data": {
      "text/plain": [
       "0        future elite inhabit island paradise far crowd...\n",
       "1        future elite inhabit island paradise far crowd...\n",
       "2        devastating earthquake hits mexico trapped sur...\n",
       "3        army recruit fellow soldiers forced confront t...\n",
       "4        postapocalyptic robots hide fear dangerous mac...\n",
       "                               ...                        \n",
       "22408    scrappy poor boy worms way dysfunctional facin...\n",
       "22409    scrappy poor boy worms way dysfunctional facin...\n",
       "22410    south african rapper nasty c hits stage street...\n",
       "22411    dessert wizard adriano zumbo looks tense compe...\n",
       "22412    documentary delves mystique trio explores enig...\n",
       "Name: description, Length: 22413, dtype: object"
      ]
     },
     "execution_count": 7,
     "metadata": {},
     "output_type": "execute_result"
    }
   ],
   "source": [
    "stop = text.ENGLISH_STOP_WORDS\n",
    "\n",
    "# coerce to lowercase to match stop words\n",
    "nflix_sub['description'] = nflix_sub['description'].str.lower()\n",
    "nflix_sub['description'] = nflix_sub['description'].apply(lambda x: ' '.join([word for word in x.split() if word not in (stop)]))\n",
    "nflix_sub['description'] = nflix_sub['description'].apply(lambda x: ' '.join([word for word in x.split() if word.isalpha()]))\n",
    "nflix_sub['description']"
   ]
  },
  {
   "cell_type": "code",
   "execution_count": 8,
   "metadata": {},
   "outputs": [
    {
     "data": {
      "text/plain": [
       "0        [future, elite, inhabit, island, paradise, far...\n",
       "1        [future, elite, inhabit, island, paradise, far...\n",
       "2        [devastating, earthquake, hits, mexico, trappe...\n",
       "3        [army, recruit, fellow, soldiers, forced, conf...\n",
       "4        [postapocalyptic, robots, hide, fear, dangerou...\n",
       "                               ...                        \n",
       "22408    [scrappy, poor, boy, worms, way, dysfunctional...\n",
       "22409    [scrappy, poor, boy, worms, way, dysfunctional...\n",
       "22410    [south, african, rapper, nasty, c, hits, stage...\n",
       "22411    [dessert, wizard, adriano, zumbo, looks, tense...\n",
       "22412    [documentary, delves, mystique, trio, explores...\n",
       "Name: description, Length: 22413, dtype: object"
      ]
     },
     "execution_count": 8,
     "metadata": {},
     "output_type": "execute_result"
    }
   ],
   "source": [
    "nflix_sub['description'] = nflix_sub['description'].str.split(' ')\n",
    "nflix_sub['description']"
   ]
  },
  {
   "cell_type": "markdown",
   "metadata": {},
   "source": [
    "Split cast on commas:"
   ]
  },
  {
   "cell_type": "code",
   "execution_count": 9,
   "metadata": {},
   "outputs": [
    {
     "data": {
      "text/plain": [
       "0        [João Miguel,  Bianca Comparato,  Michel Gomes...\n",
       "1        [João Miguel,  Bianca Comparato,  Michel Gomes...\n",
       "2        [Demián Bichir,  Héctor Bonilla,  Oscar Serran...\n",
       "3        [Tedd Chan,  Stella Chung,  Henley Hii,  Lawre...\n",
       "4        [Elijah Wood,  John C. Reilly,  Jennifer Conne...\n",
       "                               ...                        \n",
       "22408    [Vicky Kaushal,  Sarah-Jane Dias,  Raaghav Cha...\n",
       "22409    [Vicky Kaushal,  Sarah-Jane Dias,  Raaghav Cha...\n",
       "22410                                            [Nasty C]\n",
       "22411                        [Adriano Zumbo,  Rachel Khoo]\n",
       "22412                                                  NaN\n",
       "Name: cast, Length: 22413, dtype: object"
      ]
     },
     "execution_count": 9,
     "metadata": {},
     "output_type": "execute_result"
    }
   ],
   "source": [
    "nflix_sub['cast'] = nflix_sub['cast'].str.split(',')\n",
    "nflix_sub['cast']"
   ]
  },
  {
   "cell_type": "markdown",
   "metadata": {},
   "source": [
    "Now, entries which were large text strings are now represented as lists of much smaller strings."
   ]
  },
  {
   "cell_type": "code",
   "execution_count": 10,
   "metadata": {},
   "outputs": [],
   "source": [
    "nflix_sub = nflix_sub[['title', 'director', 'cast', 'country', 'date_added', 'rating',\n",
    "           'release_year', 'duration', 'description','averageRating', 'numVotes']]\n",
    "nflix_sub.to_csv('../data/nflix_sub.csv')"
   ]
  },
  {
   "cell_type": "markdown",
   "metadata": {},
   "source": [
    "### Frequency of unique terms"
   ]
  },
  {
   "cell_type": "code",
   "execution_count": 11,
   "metadata": {},
   "outputs": [
    {
     "name": "stdout",
     "output_type": "stream",
     "text": [
      "title :  9384\n",
      "cast :  35372\n",
      "description :  15420\n"
     ]
    }
   ],
   "source": [
    "def count_unique(col):\n",
    "    col = col.dropna()\n",
    "    return len(set(itertools.chain.from_iterable(col)))\n",
    "\n",
    "list_features = ['title', 'cast', 'description']\n",
    "\n",
    "for f in list_features:\n",
    "    print(f, \": \", str(count_unique(nflix_sub[f])))"
   ]
  },
  {
   "cell_type": "code",
   "execution_count": 12,
   "metadata": {},
   "outputs": [
    {
     "name": "stdout",
     "output_type": "stream",
     "text": [
      "director : 4049\n",
      "duration : 216\n",
      "country : 681\n",
      "rating : 14\n"
     ]
    }
   ],
   "source": [
    "# above method doesn't work on single entries\n",
    "single_features = ['director', 'duration', 'country', 'rating']\n",
    "\n",
    "for f in single_features:\n",
    "    print(f, \":\", len(set(nflix_sub[f].dropna())))"
   ]
  },
  {
   "cell_type": "markdown",
   "metadata": {},
   "source": [
    "*******"
   ]
  },
  {
   "cell_type": "markdown",
   "metadata": {},
   "source": [
    "## Feature Engineering and Algorithms"
   ]
  },
  {
   "cell_type": "markdown",
   "metadata": {},
   "source": [
    "Update: taking a different approach to feature extraction."
   ]
  },
  {
   "cell_type": "markdown",
   "metadata": {},
   "source": [
    "### Detect missingness"
   ]
  },
  {
   "cell_type": "code",
   "execution_count": 13,
   "metadata": {},
   "outputs": [
    {
     "data": {
      "image/png": "[encoded data removed]",
      "text/plain": [
       "<Figure size 1800x720 with 2 Axes>"
      ]
     },
     "metadata": {
      "needs_background": "light"
     },
     "output_type": "display_data"
    }
   ],
   "source": [
    "# create susbset of useful columns\n",
    "nflix_sub = nflix[['title', 'director', 'cast', 'country', 'date_added', 'rating',\n",
    "           'release_year', 'duration', 'description','averageRating', 'numVotes']]\n",
    "\n",
    "# drop entries without response variable\n",
    "nflix = nflix[nflix['averageRating'].isna() == False]\n",
    "\n",
    "# nifty little missing data visualizer: https://github.com/ResidentMario/missingno.git\n",
    "msno.matrix(nflix_sub)\n",
    "# plt.savefig('../out/merged_missing.png', dpi=300, bbox_inches='tight')\n",
    "plt.show()"
   ]
  },
  {
   "cell_type": "markdown",
   "metadata": {},
   "source": [
    "The amount of missingness in the `director` column might make it a poor candidate to use in prediction."
   ]
  },
  {
   "cell_type": "markdown",
   "metadata": {},
   "source": [
    "### Encoding Data"
   ]
  },
  {
   "cell_type": "code",
   "execution_count": 14,
   "metadata": {},
   "outputs": [],
   "source": [
    "df = nflix_sub\n",
    "df = df.drop(['director'], axis=1)\n",
    "df = df.dropna()\n",
    "\n",
    "\n",
    "# df_sub = df.sample(frac=0.1, random_state=random_state)\n",
    "\n",
    "\n",
    "y = df['averageRating']\n",
    "X = df.drop(columns=['averageRating'])\n",
    "\n"
   ]
  },
  {
   "cell_type": "code",
   "execution_count": 15,
   "metadata": {},
   "outputs": [
    {
     "data": {
      "text/plain": [
       "(14447, 1000)"
      ]
     },
     "execution_count": 15,
     "metadata": {},
     "output_type": "execute_result"
    }
   ],
   "source": [
    "# split into train and testing sets\n",
    "X_train, X_test, y_train, y_test = train_test_split(\n",
    "    X, y, test_size=0.2, random_state=random_state\n",
    ")\n",
    "\n",
    "# vectorize training and testing features (separately)\n",
    "\n",
    "def vectorize_data(X_train, X_test):\n",
    "    '''Takes corpus of feature words and returns sparse tf-idf-vectorized matrix.\n",
    "    Handles test and training data with different methods.'''\n",
    "    \n",
    "    vectorizer = text.TfidfVectorizer(analyzer='word', stop_words='english', lowercase=True,\n",
    "                                     max_features = 1000, use_idf=False, dtype=np.float64, ngram_range = (2,2))\n",
    "    \n",
    "    train_out = pd.DataFrame(vectorizer.fit_transform(X_train).todense())\n",
    "    test_out = pd.DataFrame(vectorizer.transform(X_test).todense())\n",
    "    \n",
    "    return train_out, test_out\n",
    "\n",
    "# desc_tr, desc_ts = vectorize_data(X_train['description'], X_test['description'])\n",
    "cast_tr, cast_ts = vectorize_data(X_train['cast'], X_test['cast'])\n",
    "# title_tr, title_ts = vectorize_data(X_train['title'], X_test['title'])\n",
    "\n",
    "cast_tr.shape"
   ]
  },
  {
   "cell_type": "markdown",
   "metadata": {},
   "source": [
    "## Plot Descriptives"
   ]
  },
  {
   "cell_type": "code",
   "execution_count": 16,
   "metadata": {},
   "outputs": [],
   "source": [
    "df['date_added'] = pd.to_datetime(df['date_added'])\n",
    "df['release_year'] = pd.to_numeric(df['release_year'])"
   ]
  },
  {
   "cell_type": "code",
   "execution_count": 23,
   "metadata": {},
   "outputs": [
    {
     "data": {
      "image/png": "[encoded data removed]",
      "text/plain": [
       "<Figure size 1008x288 with 3 Axes>"
      ]
     },
     "metadata": {
      "needs_background": "light"
     },
     "output_type": "display_data"
    }
   ],
   "source": [
    "num_plts = ['release_year', 'date_added', 'numVotes']\n",
    "\n",
    "nrows = 1\n",
    "ncols = 3\n",
    "fig, axs = plt.subplots(nrows, ncols, sharey=True, figsize=(14,4))\n",
    "fig.suptitle('Numeric Feature Distributions')\n",
    "fig.supylabel('Average IMDb Rating')\n",
    "fig.tight_layout()\n",
    "for i in range(len(num_plts)):\n",
    "    axs[i].scatter(df[num_plts[i]], df['averageRating'])\n",
    "    axs[i].set_xlabel(num_plts[i])\n",
    "    \n"
   ]
  },
  {
   "cell_type": "code",
   "execution_count": null,
   "metadata": {},
   "outputs": [],
   "source": []
  }
 ],
 "metadata": {
  "kernelspec": {
   "display_name": "Python 3",
   "language": "python",
   "name": "python3"
  },
  "language_info": {
   "codemirror_mode": {
    "name": "ipython",
    "version": 3
   },
   "file_extension": ".py",
   "mimetype": "text/x-python",
   "name": "python",
   "nbconvert_exporter": "python",
   "pygments_lexer": "ipython3",
   "version": "3.7.6"
  }
 },
 "nbformat": 4,
 "nbformat_minor": 2
}
